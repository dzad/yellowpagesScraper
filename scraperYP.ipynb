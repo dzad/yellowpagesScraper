{
 "cells": [
  {
   "cell_type": "code",
   "execution_count": 59,
   "metadata": {
    "collapsed": false
   },
   "outputs": [],
   "source": [
    "from bs4 import BeautifulSoup\n",
    "import re\n",
    "import urllib.request\n",
    "from incapsula import IncapSession, RecaptchaBlocked, MaxRetriesExceeded\n",
    "import pandas as pd\n",
    "import os"
   ]
  },
  {
   "cell_type": "code",
   "execution_count": 60,
   "metadata": {
    "collapsed": false
   },
   "outputs": [],
   "source": [
    "#url\n",
    "URL = 'https://raw.githubusercontent.com/cvandeplas/pystemon/master/user-agents.txt'"
   ]
  },
  {
   "cell_type": "code",
   "execution_count": 61,
   "metadata": {
    "collapsed": false
   },
   "outputs": [],
   "source": [
    "def get_page(url,page=None):\n",
    "    import time\n",
    "    loop = True\n",
    "    while loop:\n",
    "        try:\n",
    "            if(page != None):\n",
    "                response_c = session.get(url)\n",
    "            else:\n",
    "                response_c = session.post(url,page)\n",
    "            return response_c\n",
    "        except RecaptchaBlocked as e:\n",
    "            print('recaptcha blocked')\n",
    "            time.sleep(5)\n",
    "        except MaxRetriesExceeded as e:\n",
    "            print('failed to get page!! retrying...')\n",
    "            time.sleep(5)\n",
    "    return False"
   ]
  },
  {
   "cell_type": "code",
   "execution_count": 62,
   "metadata": {
    "collapsed": true
   },
   "outputs": [],
   "source": [
    "def get_cats(content, content_type='html'):\n",
    "    if(content_type == 'html'):\n",
    "        soup = BeautifulSoup(re.sub(\"\\\\\\\\\",\"\", content), 'html5lib')\n",
    "        cats = soup.find_all('a', {'class':'use-ajax', 'onclick':'lotame_cate_lv1_lv2(this)'})\n",
    "    elif(content_type == 'json'):\n",
    "        soup = BeautifulSoup(re.sub(\"\\\\'\",\"\", pg_c.json()[1]['data']), 'html5lib')\n",
    "        cats = soup.find_all('a', {'data-types-click':\"level_3_category_click\"})\n",
    "        \n",
    "    if(len(cats) == 0):\n",
    "        print('categories not found')\n",
    "    else:\n",
    "        for i,cat in enumerate(cats):\n",
    "            print('\\t',i,cat.text) \n",
    "        while True:\n",
    "            c = input('choose categorie: ')\n",
    "            try:\n",
    "                cat = cats[int(c)]\n",
    "                return cat\n",
    "            except:\n",
    "                pass"
   ]
  },
  {
   "cell_type": "code",
   "execution_count": null,
   "metadata": {
    "collapsed": true
   },
   "outputs": [],
   "source": []
  },
  {
   "cell_type": "code",
   "execution_count": 63,
   "metadata": {
    "collapsed": true
   },
   "outputs": [],
   "source": [
    "def get_name_add(content):\n",
    "    soup = BeautifulSoup(re.sub(\"\\\\\\\\\",\"\", content), 'html5lib')\n",
    "    \n",
    "    names = soup.find_all('a',{'class':'normal_title'})\n",
    "    addresses = soup.find_all('div',{'class':'mapItem'})\n",
    "    \n",
    "    adds = [address.text.strip() for address in addresses]\n",
    "    names = [name.text.strip() for name in names]\n",
    "    \n",
    "    return names,adds"
   ]
  },
  {
   "cell_type": "code",
   "execution_count": null,
   "metadata": {
    "collapsed": false
   },
   "outputs": [],
   "source": []
  },
  {
   "cell_type": "code",
   "execution_count": 64,
   "metadata": {
    "collapsed": true
   },
   "outputs": [],
   "source": [
    "def get_n_pages(content):\n",
    "    soup = BeautifulSoup(re.sub(\"\\\\\\\\\",\"\", content), 'html5lib')\n",
    "    #pag\n",
    "    pag = soup.select('div.pag > ul > li > a')\n",
    "    n_pages = 1\n",
    "    for item in pag:\n",
    "        n_pages = max(n_pages, int(item['value']))\n",
    "    return n_pages"
   ]
  },
  {
   "cell_type": "code",
   "execution_count": 65,
   "metadata": {
    "collapsed": false
   },
   "outputs": [
    {
     "name": "stdout",
     "output_type": "stream",
     "text": [
      "<class 'http.client.HTTPResponse'>\n"
     ]
    }
   ],
   "source": [
    "r = urllib.request.Request(URL)\n",
    "r.add_header('Cookie', 'sessionid=13cxrt4uytfc6ijvgeoflmb3u9jmjuhil; csrftoken=jdEKPN8iL62hdaq1hmMuID9DMALiiDIq')\n",
    "with urllib.request.urlopen(r) as res:\n",
    "    page = res.read().decode('utf-8')\n",
    "\n",
    "    print(type(res))"
   ]
  },
  {
   "cell_type": "code",
   "execution_count": null,
   "metadata": {
    "collapsed": false
   },
   "outputs": [],
   "source": []
  },
  {
   "cell_type": "code",
   "execution_count": 84,
   "metadata": {
    "collapsed": false
   },
   "outputs": [
    {
     "name": "stdout",
     "output_type": "stream",
     "text": [
      "<!DOCTYPE html>\n",
      "<html xmlns=\"http://www.w3.org/1999/xhtml\" xml:lang=\"en\" version\n",
      "\t 0 Agriculture & Livestock\n",
      "\t 1 Automotive & Transport\n",
      "\t 2 Banking & Finance\n",
      "\t 3 Beauty, Health & Medical\n",
      "\t 4 Business & Professional Services\n",
      "\t 5 Entertainment, Leisure & Hobbies\n",
      "\t 6 Fashion & Textile\n",
      "\t 7 Food & Beverages\n",
      "\t 8 Gifts & Collectibles\n",
      "\t 9 Government & Community\n",
      "\t 10 Home & Office\n",
      "\t 11 Industrial & Engineering\n",
      "\t 12 IT, Electronics & Telecoms\n",
      "\t 13 Marine, Oil & Gas\n",
      "\t 14 Media, Advertising & Printing\n",
      "\t 15 Others\n",
      "\t 16 Packing & Logistics\n",
      "\t 17 Real Estate & Construction\n",
      "\t 18 Safety & Security\n",
      "\t 19 Science, Research & Technology\n",
      "\t 20 Sports & Fitness\n",
      "\t 21 Tourism & Travel\n",
      "\t 22 Training & Education\n",
      "choose categorie: 8\n"
     ]
    }
   ],
   "source": [
    "session = IncapSession(user_agent=page.split('\\n')[50])\n",
    "\n",
    "if (os.path.isfile('main_cat.txt')):\n",
    "    with open('main_cat.txt', 'r') as f:\n",
    "        pg = f.read()\n",
    "else:\n",
    "    URL = 'http://www.yellowpages.com.sg'\n",
    "    print(page.split('\\n')[155])\n",
    "    pg = get_page(URL).content.decode('utf8')\n",
    "print(pg[:80])\n",
    "\n",
    "cat = get_cats(pg)\n",
    "with open('main_cat.txt','wb') as f:\n",
    "    f.write(pg.encode('utf-8'))"
   ]
  },
  {
   "cell_type": "code",
   "execution_count": 115,
   "metadata": {
    "collapsed": false
   },
   "source": [
    "while True:\n",
    "    pg_c = get_page(URL+cat['href'])\n",
    "    if(pg_c.status_code == 400):\n",
    "        print('You are 100% blacklisted!:(')\n",
    "    else: \n",
    "        cat_c = get_cats(str(pg_c.json()[1]['data']))\n",
    "        break\n",
    "# print(URL+cat['href'])pg_c\n"
   ]
  },
  {
   "cell_type": "code",
   "execution_count": null,
   "metadata": {
    "collapsed": false
   },
   "outputs": [],
   "source": [
    "pg_c = get_page(URL+cat_c['href'])\n",
    "cat_c = get_cats(pg_c, content_type='json')"
   ]
  },
  {
   "cell_type": "code",
   "execution_count": null,
   "metadata": {
    "collapsed": false
   },
   "outputs": [],
   "source": [
    "cat_c"
   ]
  },
  {
   "cell_type": "code",
   "execution_count": null,
   "metadata": {
    "collapsed": false
   },
   "outputs": [],
   "source": [
    "page = get_page(URL+cat_c['href'])\n",
    "get_name_add(page.content.decode('utf-8'))"
   ]
  },
  {
   "cell_type": "code",
   "execution_count": null,
   "metadata": {
    "collapsed": false
   },
   "outputs": [],
   "source": [
    "data = pd.DataFrame(columns=['Company name','Address'])\n",
    "n_pages = get_n_pages(page.content.decode('utf8'))\n",
    "for i in range(1,n_pages+1):\n",
    "    p = get_page('{}{}?page={}'.format(URL,cat_c['href'],i))\n",
    "    print(n_pages)\n",
    "\n",
    "    names,adds = get_name_add(p.content.decode('utf-8'))\n",
    "    g = pd.DataFrame({\"Company name\":pd.Series(names),\"Address\":pd.Series(adds)})\n",
    "    data = data.append(g, ignore_index=True)\n",
    "    data    "
   ]
  },
  {
   "cell_type": "code",
   "execution_count": null,
   "metadata": {
    "collapsed": false
   },
   "outputs": [],
   "source": [
    "data.to_csv('{}'.format(cat_c['href'].split('/')[-1]))"
   ]
  },
 ],
 "metadata": {
  "anaconda-cloud": {},
  "kernelspec": {
   "display_name": "Python [conda root]",
   "language": "python",
   "name": "conda-root-py"
  },
  "language_info": {
   "codemirror_mode": {
    "name": "ipython",
    "version": 3
   },
   "file_extension": ".py",
   "mimetype": "text/x-python",
   "name": "python",
   "nbconvert_exporter": "python",
   "pygments_lexer": "ipython3",
   "version": "3.5.2"
  }
 },
 "nbformat": 4,
 "nbformat_minor": 1
}
